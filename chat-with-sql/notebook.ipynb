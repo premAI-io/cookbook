{
 "cells": [
  {
   "cell_type": "markdown",
   "metadata": {},
   "source": [
    "### Chat With SQL | Data Ingestion \n",
    "\n",
    "This notebook is a very simple example on how we can ingest data to SQL using [SQLAlchemy](https://www.sqlalchemy.org/). We are using local [Postgres DB](https://www.postgresql.org/) as our engine, however it should work with any other engine like DuckDB. \n",
    "\n",
    "We start with importing all the libraries. You can install those depedencies from  [requirements.txt](/chat-with-sql/requirements.txt). "
   ]
  },
  {
   "cell_type": "code",
   "execution_count": 1,
   "metadata": {},
   "outputs": [],
   "source": [
    "import pandas as pd\n",
    "from sqlalchemy import (\n",
    "    create_engine, \n",
    "    MetaData,\n",
    "    Table,\n",
    "    Column,\n",
    "    String,\n",
    "    Integer,\n",
    "    insert\n",
    ")"
   ]
  },
  {
   "cell_type": "markdown",
   "metadata": {},
   "source": [
    "Once we import all the libraries, we define all the configurations required to connect with our Postgres database. You can either have a local database or a hosted one, provided by the popular cloud providers. You can edit the cell to provide all the credentials to make the connection. "
   ]
  },
  {
   "cell_type": "code",
   "execution_count": 2,
   "metadata": {},
   "outputs": [],
   "source": [
    "# Postgres SQL Configuration\n",
    "\n",
    "username = 'xxxxxx'      # Enter your user name here \n",
    "password = 'xxxxxx'      # Enter the password here \n",
    "host = 'localhost'       # Enter the host (it will be local host in our example)\n",
    "port = '5432'            # Enter the port. For postgres, the default port is 5432\n",
    "database = 'xxxxxx'      # Enter the database name here. "
   ]
  },
  {
   "cell_type": "markdown",
   "metadata": {},
   "source": [
    "For this example, we are going to use this [Netflix movies dataset](https://www.kaggle.com/datasets/rahulvyasm/netflix-movies-and-tv-shows) from kaggle. We download the dataset (which a single CSV file). We load the dataset using pandas, and then parse each row of the dataframe and insert it to our table. If you want to test out our code, then simply run the cells below or change the dataset with any other source and change the schema, so that it can ingest properly in your table."
   ]
  },
  {
   "cell_type": "code",
   "execution_count": 3,
   "metadata": {},
   "outputs": [],
   "source": [
    "# There are lot of full NaN columns in the dataframe so we choose only those columns \n",
    "# which we only require. \n",
    "\n",
    "required_columns = [\n",
    "    'show_id', \n",
    "    'type', \n",
    "    'title', \n",
    "    'director', \n",
    "    'cast', \n",
    "    'country', \n",
    "    'date_added', \n",
    "    'release_year', \n",
    "    'rating', \n",
    "    'duration', \n",
    "    'listed_in', \n",
    "    'description'\n",
    "]\n",
    "\n",
    "df = pd.read_csv(\"netflix_titles.csv\", encoding='latin1')[required_columns]"
   ]
  },
  {
   "cell_type": "code",
   "execution_count": 4,
   "metadata": {},
   "outputs": [],
   "source": [
    "# Provide the table name here and then define the table schema using sqlalchemy\n",
    "\n",
    "table_name = \"latest_netflix_movies\"\n",
    "metadata_obj = MetaData()\n",
    "\n",
    "movies_table = Table(\n",
    "    table_name,\n",
    "    metadata_obj,\n",
    "    Column(\"show_id\", String, primary_key=True),\n",
    "    Column(\"type\", String),\n",
    "    Column(\"title\", String),\n",
    "    Column(\"director\", String),\n",
    "    Column(\"cast\", String),\n",
    "    Column(\"country\", String),\n",
    "    Column(\"date_added\", String),\n",
    "    Column(\"release_year\", Integer),\n",
    "    Column(\"rating\", String),\n",
    "    Column(\"duration\", String),\n",
    "    Column(\"listed_in\", String),\n",
    "    Column(\"description\", String)\n",
    ")"
   ]
  },
  {
   "cell_type": "markdown",
   "metadata": {},
   "source": [
    "Once we defined our table schema, we initialise our engine which builds up the connection with our database. The code is stays same for almost all the kinds of database. For example, here is the code for connecting [DuckDB](https://duckdb.org/). \n",
    "\n",
    "```python\n",
    "engine = create_engine(\"duckdb:///:memory:\")\n",
    "```"
   ]
  },
  {
   "cell_type": "code",
   "execution_count": 5,
   "metadata": {},
   "outputs": [],
   "source": [
    "engine = create_engine(f\"postgresql://{username}:{password}@{host}:{port}/{database}\")\n",
    "metadata_obj.create_all(engine)"
   ]
  },
  {
   "cell_type": "markdown",
   "metadata": {},
   "source": [
    "Finally we parse through each rows of our dataframe and then insert it as a new entry in our table. "
   ]
  },
  {
   "cell_type": "code",
   "execution_count": 6,
   "metadata": {},
   "outputs": [
    {
     "name": "stderr",
     "output_type": "stream",
     "text": [
      "/Users/anindyadeepsannigrahi/workspace/Prem/cookbook/ner-with-llama-index/venv/lib/python3.12/site-packages/tqdm/auto.py:21: TqdmWarning: IProgress not found. Please update jupyter and ipywidgets. See https://ipywidgets.readthedocs.io/en/stable/user_install.html\n",
      "  from .autonotebook import tqdm as notebook_tqdm\n",
      "100%|██████████| 8809/8809 [00:04<00:00, 2161.56it/s]\n"
     ]
    }
   ],
   "source": [
    "from tqdm.auto import tqdm \n",
    "\n",
    "\n",
    "for index, row in tqdm(df.iterrows(), total=len(df)):\n",
    "    stmt = insert(movies_table).values(\n",
    "        show_id=row['show_id'],\n",
    "        type=row['type'],\n",
    "        title=row['title'],\n",
    "        director=row['director'],\n",
    "        cast=row['cast'],\n",
    "        country=row['country'],\n",
    "        date_added=row['date_added'],\n",
    "        release_year=row['release_year'],\n",
    "        rating=row['rating'],\n",
    "        duration=row['duration'],\n",
    "        listed_in=row['listed_in'],\n",
    "        description=row['description']\n",
    "    )\n",
    "    with engine.begin() as connection:\n",
    "        connection.execute(stmt)"
   ]
  },
  {
   "cell_type": "code",
   "execution_count": null,
   "metadata": {},
   "outputs": [
    {
     "name": "stdout",
     "output_type": "stream",
     "text": [
      "show_id    type     title                          director                        cast                            country                                                                date_added            release_year  rating    duration    listed_in                                                      description\n",
      "s1         Movie    Dick Johnson Is Dead           Kirsten Johnson                 NaN                             United States                                                          September 25, 2021            2020  PG-13     90 min      Documentaries                                                  As her father nears the end of\n",
      "                                                                                                                                                                                                                                                                                                                   his life, filmmaker Kirsten\n",
      "                                                                                                                                                                                                                                                                                                                   Johnson stages his death in\n",
      "                                                                                                                                                                                                                                                                                                                   inventive and comical ways to\n",
      "                                                                                                                                                                                                                                                                                                                   help them both face the\n",
      "                                                                                                                                                                                                                                                                                                                   inevitable.\n",
      "s2         TV Show  Blood & Water                  NaN                             Ama Qamata, Khosi Ngema, Gail   South Africa                                                           September 24, 2021            2021  TV-MA     2 Seasons   International TV Shows, TV Dramas, TV Mysteries                After crossing paths at a\n",
      "                                                                                   Mabalane, Thabang Molaba,                                                                                                                                                                                                       party, a Cape Town teen sets\n",
      "                                                                                   Dillon Windvogel, Natasha                                                                                                                                                                                                       out to prove whether a\n",
      "                                                                                   Thahane, Arno Greeff, Xolile                                                                                                                                                                                                    private-school swimming star\n",
      "                                                                                   Tshabalala, Getmore Sithole,                                                                                                                                                                                                    is her sister who was abducted\n",
      "                                                                                   Cindy Mahlangu, Ryle De Morny,                                                                                                                                                                                                  at birth.\n",
      "                                                                                   Greteli Fincham, Sello Maake\n",
      "                                                                                   Ka-Ncube, Odwa Gwanya, Mekaila\n",
      "                                                                                   Mathys, Sandi Schultz, Duane\n",
      "                                                                                   Williams, Shamilla Miller,\n",
      "                                                                                   Patrick Mofokeng\n",
      "s3         TV Show  Ganglands                      Julien Leclercq                 Sami Bouajila, Tracy Gotoas,    NaN                                                                    September 24, 2021            2021  TV-MA     1 Season    Crime TV Shows, International TV Shows, TV Action & Adventure  To protect his family from a\n",
      "                                                                                   Samuel Jouy, Nabiha Akkari,                                                                                                                                                                                                     powerful drug lord, skilled\n",
      "                                                                                   Sofia Lesaffre, Salim                                                                                                                                                                                                           thief Mehdi and his expert\n",
      "                                                                                   Kechiouche, Noureddine Farihi,                                                                                                                                                                                                  team of robbers are pulled\n",
      "                                                                                   Geert Van Rampelberg, Bakary                                                                                                                                                                                                    into a violent and deadly turf\n",
      "                                                                                   Diombera                                                                                                                                                                                                                        war.\n",
      "s4         TV Show  Jailbirds New Orleans          NaN                             NaN                             NaN                                                                    September 24, 2021            2021  TV-MA     1 Season    Docuseries, Reality TV                                         Feuds, flirtations and toilet\n",
      "                                                                                                                                                                                                                                                                                                                   talk go down among the\n",
      "                                                                                                                                                                                                                                                                                                                   incarcerated women at the\n",
      "                                                                                                                                                                                                                                                                                                                   Orleans Justice Center in New\n",
      "                                                                                                                                                                                                                                                                                                                   Orleans on this gritty reality\n",
      "                                                                                                                                                                                                                                                                                                                   series.\n",
      "s5         TV Show  Kota Factory                   NaN                             Mayur More, Jitendra Kumar,     India                                                                  September 24, 2021            2021  TV-MA     2 Seasons   International TV Shows, Romantic TV Shows, TV Comedies         In a city of coaching centers\n",
      "                                                                                   Ranjan Raj, Alam Khan, Ahsaas                                                                                                                                                                                                   known to train Indiaâs\n",
      "                                                                                   Channa, Revathi Pillai, Urvi                                                                                                                                                                                                    finest collegiate minds, an\n",
      "                                                                                   Singh, Arun Kumar                                                                                                                                                                                                               earnest but unexceptional\n",
      "                                                                                                                                                                                                                                                                                                                   student and his friends\n",
      "                                                                                                                                                                                                                                                                                                                   navigate campus life.\n",
      "s6         TV Show  Midnight Mass                  Mike Flanagan                   Kate Siegel, Zach Gilford,      NaN                                                                    September 24, 2021            2021  TV-MA     1 Season    TV Dramas, TV Horror, TV Mysteries                             The arrival of a charismatic\n",
      "                                                                                   Hamish Linklater, Henry                                                                                                                                                                                                         young priest brings glorious\n",
      "                                                                                   Thomas, Kristin Lehman,                                                                                                                                                                                                         miracles, ominous mysteries\n",
      "                                                                                   Samantha Sloyan, Igby Rigney,                                                                                                                                                                                                   and renewed religious fervor\n",
      "                                                                                   Rahul Kohli, Annarah Cymone,                                                                                                                                                                                                    to a dying town desperate to\n",
      "                                                                                   Annabeth Gish, Alex Essoe,                                                                                                                                                                                                      believe.\n",
      "                                                                                   Rahul Abburi, Matt Biedel,\n",
      "                                                                                   Michael Trucco, Crystal\n",
      "                                                                                   Balint, Louis Oliver\n",
      "s7         Movie    My Little Pony: A New          Robert Cullen, JosÃ© Luis Ucha  Vanessa Hudgens, Kimiko Glenn,  NaN                                                                    September 24, 2021            2021  PG        91 min      Children & Family Movies                                       Equestria's divided. But a\n",
      "                    Generation                                                     James Marsden, Sofia Carson,                                                                                                                                                                                                    bright-eyed hero believes\n",
      "                                                                                   Liza Koshy, Ken Jeong,                                                                                                                                                                                                          Earth Ponies, Pegasi and\n",
      "                                                                                   Elizabeth Perkins, Jane                                                                                                                                                                                                         Unicorns should be pals â\n",
      "                                                                                   Krakowski, Michael McKean,                                                                                                                                                                                                      and, hoof to heart, sheâs\n",
      "                                                                                   Phil LaMarr                                                                                                                                                                                                                     determined to prove it.\n",
      "s8         Movie    Sankofa                        Haile Gerima                    Kofi Ghanaba, Oyafunmike        United States, Ghana, Burkina Faso, United Kingdom, Germany, Ethiopia  September 24, 2021            1993  TV-MA     125 min     Dramas, Independent Movies, International Movies               On a photo shoot in Ghana, an\n",
      "                                                                                   Ogunlano, Alexandra Duah, Nick                                                                                                                                                                                                  American model slips back in\n",
      "                                                                                   Medley, Mutabaruka, Afemo                                                                                                                                                                                                       time, becomes enslaved on a\n",
      "                                                                                   Omilami, Reggie Carter, Mzuri                                                                                                                                                                                                   plantation and bears witness\n",
      "                                                                                                                                                                                                                                                                                                                   to the agony of her ancestral\n",
      "                                                                                                                                                                                                                                                                                                                   past.\n",
      "s9         TV Show  The Great British Baking Show  Andy Devonshire                 Mel Giedroyc, Sue Perkins,      United Kingdom                                                         September 24, 2021            2021  TV-14     9 Seasons   British TV Shows, Reality TV                                   A talented batch of amateur\n",
      "                                                                                   Mary Berry, Paul Hollywood                                                                                                                                                                                                      bakers face off in a 10-week\n",
      "                                                                                                                                                                                                                                                                                                                   competition, whipping up their\n",
      "                                                                                                                                                                                                                                                                                                                   best dishes in the hopes of\n",
      "                                                                                                                                                                                                                                                                                                                   being named the U.K.'s best.\n",
      "s10        Movie    The Starling                   Theodore Melfi                  Melissa McCarthy, Chris         United States                                                          September 24, 2021            2021  PG-13     104 min     Comedies, Dramas                                               A woman adjusting to life\n",
      "                                                                                   O'Dowd, Kevin Kline, Timothy                                                                                                                                                                                                    after a loss contends with a\n",
      "                                                                                   Olyphant, Daveed Diggs, Skyler                                                                                                                                                                                                  feisty bird that's taken over\n",
      "                                                                                   Gisondo, Laura Harrier,                                                                                                                                                                                                         her garden â and a husband\n",
      "                                                                                   Rosalind Chao, Kimberly Quinn,                                                                                                                                                                                                  who's struggling to find a way\n",
      "                                                                                   Loretta Devine, Ravi Kapoor                                                                                                                                                                                                     forward.\n"
     ]
    }
   ],
   "source": [
    "# Print the first three for a sanity check\n",
    "import textwrap\n",
    "from tabulate import tabulate\n",
    "\n",
    "# A helper function to wrap the elements with long lines of sentences or entries.\n",
    "\n",
    "def show(data, headers):\n",
    "    wrapped_data = []\n",
    "    for row in data:\n",
    "        wrapped_row = []\n",
    "        for col_idx, cell in enumerate(row):\n",
    "            if headers[col_idx] in ['title', 'cast', 'description']:\n",
    "                wrapped_row.append(\"\\n\".join(textwrap.wrap(cell, width=30)))  # Adjust width as needed\n",
    "            else:\n",
    "                wrapped_row.append(cell)\n",
    "        wrapped_data.append(wrapped_row)\n",
    "\n",
    "    # Print as a formatted table with custom wrapping\n",
    "    print(tabulate(wrapped_data, headers=headers, tablefmt='plain'))\n",
    "\n",
    "\n",
    "with engine.connect() as connection:\n",
    "    result = connection.exec_driver_sql(f\"SELECT * FROM {table_name} LIMIT 10\")\n",
    "    data = result.fetchall()\n",
    "    show(data, headers=required_columns)"
   ]
  },
  {
   "cell_type": "markdown",
   "metadata": {},
   "source": [
    "Congratulations on completing the ingestion pipeline, you are now ready to connect this database with our LLM using llama-index. You can check out our [cookbook tutorial](https://docs.premai.io/cookbook/chat-with-sql) for that or directly [run the code](/chat-with-sql/main.py). "
   ]
  }
 ],
 "metadata": {
  "kernelspec": {
   "display_name": "venv",
   "language": "python",
   "name": "python3"
  },
  "language_info": {
   "codemirror_mode": {
    "name": "ipython",
    "version": 3
   },
   "file_extension": ".py",
   "mimetype": "text/x-python",
   "name": "python",
   "nbconvert_exporter": "python",
   "pygments_lexer": "ipython3",
   "version": "3.12.3"
  }
 },
 "nbformat": 4,
 "nbformat_minor": 2
}
