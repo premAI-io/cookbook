{
 "cells": [
  {
   "cell_type": "markdown",
   "id": "7925a0d9-42e6-4ee9-9f2c-d0a3f5cf6f4e",
   "metadata": {},
   "source": [
    "## ArXiv QnA with PremAI Qdrant and DSPy\n",
    "\n",
    "Welcome to our fifth recipe of PremAI cookbook. In this recipe, we are going to implement a custom [Retrieval Augmented Generation (RAG)](https://blogs.nvidia.com/blog/what-is-retrieval-augmented-generation/) pipeline using PremAI, [Qdrant](https://qdrant.tech/) and [DSPy](https://dspy-docs.vercel.app/). \n",
    "\n",
    "Those who are not familiar with [Qdrant](https://qdrant.tech/), it is an amazing open-source vector database and similarity search engine. Qdrant can also be hosted locally. If you are not familiar with DSPy, checkout our [introductory recipe on using DSPy](https://docs.premai.io/cookbook/text-2-sql). We have lot of introductory concepts there. You can also check out [DSPy documentation](https://dspy-docs.vercel.app/) for more information. "
   ]
  },
  {
   "cell_type": "markdown",
   "id": "0fca39bc-e579-4923-a61a-a552553dc11e",
   "metadata": {},
   "source": [
    "### Objective\n",
    "\n",
    "The objective of this tutorial is simple. We are going to build a simple RAG pipeline using the above mentioned tools to search through relevant papers in arXiv and answer user questions correctly citing those answers. So high level here are the steps:\n",
    "\n",
    "1. Download a sample dataset from HuggingFace for our experiment. We are going to use [ML-ArXiv-Papers](https://huggingface.co/datasets/CShorten/ML-ArXiv-Papers) which contains a huge subset of Machine Learning paper. This dataset contains the title of the paper and the abstract.\n",
    "\n",
    "2. Once download, we do some preprocessing (which includes converting the data into proper formats, and converting the dataset into smaller batches)\n",
    "3. After this, we get the embeddings using Prem Embeddings and initializing a Qdrant Collection to store those embedding and it's corresponding data.\n",
    "4. After this we connect this Qdrant collection instance to DSPy and build a simple RAG Module.\n",
    "5. Finally we test this with some sample questions.\n",
    "\n",
    "Sounds interesting right? So without furthur adue let's start by installing and importing all the important packages. \n",
    "\n",
    "### Getting Started\n",
    "\n",
    "Before getting started, we need to create a new virtual environment and install all our required packages from this [requirements.txt](https://github.com/premAI-io/cookbook/ml-arxiv-qna/requirements.txt) file. To install Qdrant engine, you need to have [docker](https://www.docker.com/) installed. You can build and run the Qdrant's official docker image using the following command:\n",
    "\n",
    "```bash\n",
    "docker run -p 6333:6333 -p 6334:6334 \\\n",
    "    -v $(pwd)/qdrant_storage:/qdrant/storage:z \\\n",
    "    qdrant/qdrant\n",
    "```\n",
    "\n",
    "Where:\n",
    "\n",
    "- REST API will run in: `localhost:6333`\n",
    "- Web UI will run in: `localhost:6333/dashboard`\n",
    "- GRPC API will run in: `localhost:6334`\n",
    "\n",
    "Once all the dependencies are installed, we import the following packages"
   ]
  },
  {
   "cell_type": "code",
   "execution_count": 1,
   "id": "775836d4-6111-46b0-ae16-f1d2a5c79b53",
   "metadata": {},
   "outputs": [],
   "source": [
    "import os\n",
    "from tqdm.auto import tqdm\n",
    "from typing import List, Union\n",
    "from datasets import load_dataset"
   ]
  },
  {
   "cell_type": "markdown",
   "id": "69ecebe6-8ae6-4f2d-a429-256b6e222697",
   "metadata": {},
   "source": [
    "All the qdrant related imports"
   ]
  },
  {
   "cell_type": "code",
   "execution_count": 2,
   "id": "05e17acd-9ed5-4adb-8d14-db1fe1a2c130",
   "metadata": {},
   "outputs": [],
   "source": [
    "from qdrant_client import models\n",
    "from qdrant_client import QdrantClient\n",
    "from qdrant_client.models import Distance, VectorParams\n",
    "from qdrant_client.models import PointStruct"
   ]
  },
  {
   "cell_type": "markdown",
   "id": "541d8074-2cb9-4f0a-981c-ab78a5730a7d",
   "metadata": {},
   "source": [
    "All DSPY-PremAI and DSPy-Qdrant related imports"
   ]
  },
  {
   "cell_type": "code",
   "execution_count": 3,
   "id": "b36ad060-d5df-465a-b2e5-82d261f3696d",
   "metadata": {},
   "outputs": [
    {
     "name": "stderr",
     "output_type": "stream",
     "text": [
      "/Users/anindyadeepsannigrahi/workspace/Prem/cookbook/arxiv-ml-qna/venv/lib/python3.12/site-packages/dsp/templates/template_v2.py:35: SyntaxWarning: invalid escape sequence '\\s'\n",
      "  match = re.search(\"(.*)(\\s){(.*)}\\s(.*\\${.*})\", template)\n",
      "/Users/anindyadeepsannigrahi/workspace/Prem/cookbook/arxiv-ml-qna/venv/lib/python3.12/site-packages/dsp/templates/template_v2.py:42: SyntaxWarning: invalid escape sequence '\\s'\n",
      "  match = re.search(\"(.*)(\\s){(.*)}\", template)\n"
     ]
    }
   ],
   "source": [
    "import dspy\n",
    "from dspy import PremAI\n",
    "from dspy.retrieve.qdrant_rm import QdrantRM\n",
    "from dsp.modules.sentence_vectorizer import PremAIVectorizer"
   ]
  },
  {
   "cell_type": "markdown",
   "id": "fd309f4e-d357-41e5-b86e-6d5afa15f9de",
   "metadata": {},
   "source": [
    "We also define some constants which includes, [PremAI project ID](https://docs.premai.io/get-started/projects), the embedding model we are going to use, name of the huggingface dataset, name of Qdrant collection (can be any arbitary name) and the Qdrant server url in which we are going to access the DB. \n",
    "\n",
    "Prem AI offers a variety of models (which includes SOTA LLMs and Embedding models. See the list [here](https://docs.premai.io/get-started/supported-models)), so you can experiment with all the models."
   ]
  },
  {
   "cell_type": "code",
   "execution_count": 4,
   "id": "5fadfb88-efc3-4a95-afe6-8ff4aca84039",
   "metadata": {},
   "outputs": [],
   "source": [
    "PROJECT_ID = 1234\n",
    "EMBEDDING_MODEL_NAME = \"mistral-embed\"\n",
    "COLLECTION_NAME = \"arxiv-ml-papers-collection\"\n",
    "QDRANT_SERVER_URL = \"http://localhost:6333\"\n",
    "DATASET_NAME = \"CShorten/ML-ArXiv-Papers\""
   ]
  },
  {
   "cell_type": "markdown",
   "id": "37948e0b-4f55-4367-a478-39bb7a8ec395",
   "metadata": {},
   "source": [
    "### Loading dataset from HF and preprocessing it\n",
    "\n",
    "In our very first step, we need to download the dataset. The dataset is composed of a `title` and an `abstract` column which covers the title and the abstract of the paper. We are going to fetch those columns. We are also going to take a smaller subset (let's say 1000 rows) just for the sake of this tutorial and convert it into a dictionary in the following format:\n",
    "\n",
    "```json\n",
    "\n",
    "[\n",
    "    {\"title\":\"title-of-paper\", \"abstract\":\"abstract-of-paper\"}\n",
    "]\n",
    "```\n",
    "\n",
    "After this we are going to write a simple function which uses Prem Vectorizer from DSPy to convert a text or list of texts to it's embedding. Prem Vectorizer internally uses [Prem SDK](https://docs.premai.io/get-started/sdk) to extract embeddings from text, and at the same time being compatible with the DSPy ecosystem. "
   ]
  },
  {
   "cell_type": "code",
   "execution_count": 5,
   "id": "a8fe23ba-025d-4aab-9812-70fd1884febc",
   "metadata": {},
   "outputs": [
    {
     "data": {
      "text/plain": [
       "Dataset({\n",
       "    features: ['Unnamed: 0.1', 'Unnamed: 0', 'title', 'abstract'],\n",
       "    num_rows: 117592\n",
       "})"
      ]
     },
     "execution_count": 5,
     "metadata": {},
     "output_type": "execute_result"
    }
   ],
   "source": [
    "dataset = load_dataset(DATASET_NAME)[\"train\"]\n",
    "dataset"
   ]
  },
  {
   "cell_type": "markdown",
   "id": "15cb7d6b-5fcc-4e83-8cfc-a2a99f569451",
   "metadata": {},
   "source": [
    "As we can see that inside the features, we have two columns named `Unnamed`, so we are going to remove them first and also take a subset of the rows (in our case we take 1000 rows). Finally, we convert this into a dict."
   ]
  },
  {
   "cell_type": "code",
   "execution_count": 6,
   "id": "8353c565-3edc-478c-8840-8f6542cc188a",
   "metadata": {},
   "outputs": [],
   "source": [
    "dataset_dict = (\n",
    "    dataset.select(range(1000)).select_columns([\"title\", \"abstract\"]).to_dict()\n",
    ")"
   ]
  },
  {
   "cell_type": "markdown",
   "id": "a2b341be-ed3f-46f7-82be-3c0207725d51",
   "metadata": {},
   "source": [
    "Right now this dict is not in the list format which is shown above. It is in this format:\n",
    "\n",
    "```json\n",
    "{\n",
    "    \"title\": [\"title-paper-1\", \"title-paper-2\", \"...\"],\n",
    "        \n",
    "    \"abstract\": [\"abstract-paper-1\", \"abstract-paper-2\", \"...\"]\n",
    "}\n",
    "```\n",
    "So, we need to convert this to the format we want, so that it becomes easier for us to get the embeddings and insert to Qdrant DB."
   ]
  },
  {
   "cell_type": "code",
   "execution_count": 7,
   "id": "45aa10a7-9ebe-4bfe-a2d1-00038f3f2ab3",
   "metadata": {},
   "outputs": [],
   "source": [
    "dataset = [\n",
    "    {\"title\": title, \"abstract\": desc}\n",
    "    for title, desc in zip(dataset_dict[\"title\"], dataset_dict[\"abstract\"])\n",
    "]"
   ]
  },
  {
   "cell_type": "code",
   "execution_count": 8,
   "id": "fd9d4be2-97ad-47c7-b3c1-919abfe44250",
   "metadata": {},
   "outputs": [
    {
     "name": "stdout",
     "output_type": "stream",
     "text": [
      "{\n",
      "    \"title\": \"Learning from compressed observations\",\n",
      "    \"abstract\": \"  The problem of statistical learning is to construct a predictor of a random\\nvariable $Y$ as a function of a related random variable $X$ on the basis of an\\ni.i.d. training sample from the joint distribution of $(X,Y)$. Allowable\\npredictors are drawn from some specified class, and the goal is to approach\\nasymptotically the performance (expected loss) of the best predictor in the\\nclass. We consider the setting in which one has perfect observation of the\\n$X$-part of the sample, while the $Y$-part has to be communicated at some\\nfinite bit rate. The encoding of the $Y$-values is allowed to depend on the\\n$X$-values. Under suitable regularity conditions on the admissible predictors,\\nthe underlying family of probability distributions and the loss function, we\\ngive an information-theoretic characterization of achievable predictor\\nperformance in terms of conditional distortion-rate functions. The ideas are\\nillustrated on the example of nonparametric regression in Gaussian noise.\\n\"\n",
      "}\n"
     ]
    }
   ],
   "source": [
    "import json\n",
    "\n",
    "print(json.dumps(dataset[0], indent=4))"
   ]
  },
  {
   "cell_type": "markdown",
   "id": "6a0caa80-29fa-414d-a2d3-d62f38e89649",
   "metadata": {},
   "source": [
    "### Creating embeddings of the dataset\n",
    "\n",
    "We write a simple function to get embedding from the text. It is super simple, we first initialize premai vectorizer and then use that to get the embedding. By default premai vectorizer returns a `numpy.ndarray`, we convert into a list (a list of list), which becomes easier for us to upload it to Qdrant."
   ]
  },
  {
   "cell_type": "code",
   "execution_count": 9,
   "id": "edd2862f-ba45-42fa-a913-aaa27faf966b",
   "metadata": {},
   "outputs": [],
   "source": [
    "# we assume your have PREMAI_API_KEY in the environment variable.\n",
    "\n",
    "premai_vectorizer = PremAIVectorizer(\n",
    "    project_id=PROJECT_ID, model_name=EMBEDDING_MODEL_NAME\n",
    ")"
   ]
  },
  {
   "cell_type": "code",
   "execution_count": 10,
   "id": "8d8c407a-4d93-4373-bcb5-0278bf7cb9d1",
   "metadata": {},
   "outputs": [],
   "source": [
    "def get_embeddings(\n",
    "    premai_vectorizer: PremAIVectorizer, documents: Union[str, List[str]]\n",
    "):\n",
    "    \"\"\"Gets embedding from using Prem Embeddings\"\"\"\n",
    "    documents = [documents] if isinstance(documents, str) else documents\n",
    "    embeddings = premai_vectorizer(documents)\n",
    "    return embeddings.tolist()"
   ]
  },
  {
   "cell_type": "markdown",
   "id": "05345bc5-dce3-489e-b20f-415dd98a4dd1",
   "metadata": {},
   "source": [
    "### Making mini batches, getting embeddings and uploading it to Qdrant\n",
    "\n",
    "Qdrant some times [gives time out error](https://github.com/qdrant/qdrant-client/issues/394) when number of embeddings to upload are huge. So to prevent this issue, we are going to do the following:\n",
    "\n",
    "1. Create mini batches of the dataset\n",
    "   \n",
    "2. Get the embeddings for all the abstract in that mini batch\n",
    "3. Iterate over the docs and it's corresponding embeddings and we create [Qdrant Points](https://qdrant.tech/documentation/concepts/points/). In short, a Qdrant Point acts like a central entity which is mostly a vector and Qdrant can do all sorts of operations on it.\n",
    "4. Finally upload this point to our [Qdrant collection](https://qdrant.tech/documentation/concepts/collections/). A collection is a structure in Qdrant where we keep set of points (vectors) among which we can do operations like search. \n",
    "\n",
    "But before doing all the steps mentioned above, we need to initialize a the qdrant client and make a collection. Since we are using `mistral-embed` the embedding size is `1024`. This can vary when use different embedding models."
   ]
  },
  {
   "cell_type": "code",
   "execution_count": null,
   "id": "2a69f9aa-3e48-4521-b562-d689842f7d54",
   "metadata": {},
   "outputs": [],
   "source": [
    "qdrant_client = QdrantClient(url=QDRANT_SERVER_URL)\n",
    "embedding_size = 1024\n",
    "\n",
    "qdrant_client.create_collection(\n",
    "    collection_name=COLLECTION_NAME,\n",
    "    vectors_config=models.VectorParams(\n",
    "        size=embedding_size,\n",
    "        distance=models.Distance.COSINE,\n",
    "    ),\n",
    ")"
   ]
  },
  {
   "cell_type": "code",
   "execution_count": 20,
   "id": "a0a0479a-3ba8-4e80-97d7-c5a2b81eaae0",
   "metadata": {},
   "outputs": [],
   "source": [
    "# make a simple function to create mini batches\n",
    "\n",
    "\n",
    "def make_mini_batches(lst, batch_size):\n",
    "    return [lst[i : i + batch_size] for i in range(0, len(lst), batch_size)]"
   ]
  },
  {
   "cell_type": "code",
   "execution_count": 21,
   "id": "a0bbc1c3-7890-4b55-acf6-af9688fd2d20",
   "metadata": {},
   "outputs": [
    {
     "data": {
      "application/vnd.jupyter.widget-view+json": {
       "model_id": "257558e86f024392afcad21d5b3a334a",
       "version_major": 2,
       "version_minor": 0
      },
      "text/plain": [
       "  0%|          | 0/125 [00:00<?, ?it/s]"
      ]
     },
     "metadata": {},
     "output_type": "display_data"
    },
    {
     "name": "stdout",
     "output_type": "stream",
     "text": [
      "All Uploaded\n"
     ]
    }
   ],
   "source": [
    "# Function to iterate over batches, get embeddings and upload\n",
    "\n",
    "batch_size = 8\n",
    "document_batches = make_mini_batches(dataset, batch_size=batch_size)\n",
    "start_idx = 0\n",
    "\n",
    "\n",
    "for batch in tqdm(document_batches, total=len(document_batches)):\n",
    "    points = []\n",
    "    docs_to_pass = [b[\"abstract\"] for b in batch]\n",
    "    embeddings = get_embeddings(premai_vectorizer, documents=docs_to_pass)\n",
    "    for idx, (document, embedding) in enumerate(zip(batch, embeddings)):\n",
    "        points.append(\n",
    "            models.PointStruct(id=idx + start_idx, vector=embedding, payload=document)\n",
    "        )\n",
    "    qdrant_client.upload_points(collection_name=COLLECTION_NAME, points=points)\n",
    "    start_idx += batch_size\n",
    "print(\"All Uploaded\")"
   ]
  },
  {
   "cell_type": "markdown",
   "id": "7b636786-7083-4cb5-ba89-68e16d1985ad",
   "metadata": {},
   "source": [
    "Congratulations, if you have made here this far. Now in the later part of this tutorial, we are going to use this collection with DSPy and use PremAI LLMs to make a simple RAG module. If you are not familiar with RAG, check out our [introductory tutorial on DSPy](https://docs.premai.io/cookbook/text-2-sql)."
   ]
  },
  {
   "cell_type": "markdown",
   "id": "7f69cabf-4543-4774-b8f6-cfb8389f40b7",
   "metadata": {},
   "source": [
    "### Using DSPy and PremAI to use Qdrant Collection to build our RAG pipeline"
   ]
  },
  {
   "cell_type": "markdown",
   "id": "28d28905-d8b0-460f-afc7-987c9f40739e",
   "metadata": {},
   "source": [
    "Here, we are going to first start with initializing our [DSPy-PremAI](https://dspy-docs.vercel.app/api/language_model_clients/PremAI) as our LLM and use DSPy-Qdrant as our retriever. This retriever does all the heavy lifting of doing nearest neighbour search for us and return the top-k matched documents which we will pass as our context to our LLM to answer our question."
   ]
  },
  {
   "cell_type": "code",
   "execution_count": 22,
   "id": "236e7b3c-8437-4fa6-bbee-197f83dc95ee",
   "metadata": {},
   "outputs": [],
   "source": [
    "PROJECT_ID = 1234\n",
    "EMBEDDING_MODEL = \"mistral-embed\"\n",
    "COLLECTION_NAME = \"arxiv-ml-papers-collection\"\n",
    "QDRANT_SERVER_URL = \"http://localhost:6333\"\n",
    "\n",
    "model = PremAI(project_id=PROJECT_ID)\n",
    "qdrant_client = QdrantClient(url=QDRANT_SERVER_URL)\n",
    "qdrant_retriever_model = QdrantRM(\n",
    "    COLLECTION_NAME,\n",
    "    qdrant_client,\n",
    "    k=3,\n",
    "    vectorizer=PremAIVectorizer(project_id=PROJECT_ID, model_name=EMBEDDING_MODEL),\n",
    "    document_field=\"abstract\",\n",
    ")\n",
    "\n",
    "model = PremAI(project_id=PROJECT_ID, **{\"temperature\": 0.1, \"max_tokens\": 1000})\n",
    "dspy.settings.configure(lm=model, rm=qdrant_retriever_model)"
   ]
  },
  {
   "cell_type": "markdown",
   "id": "a3744d73-ff7c-4bc0-9440-f86ee6eb93ee",
   "metadata": {},
   "source": [
    "Now before moving forward, let's do a quick sanity check on if our retriever is successfully retrieving relevant results or not."
   ]
  },
  {
   "cell_type": "code",
   "execution_count": 23,
   "id": "0be33500-b0be-4c1f-bf78-5e2b57daa8d2",
   "metadata": {},
   "outputs": [
    {
     "name": "stdout",
     "output_type": "stream",
     "text": [
      "(1, 1024)\n",
      "Top 3 passages for question: Principal Component Analysis \n",
      " \n",
      "\n",
      "[\"  In many physical, statistical, biological and other investigations it is\\ndesirable to approximate a system of points by objects of lower dimension\\nand/or complexity. For this purpose, Karl Pearson invented principal component\\nanalysis in 1901 and found 'lines and planes of closest fit to system of\\npoints'. The famous k-means algorithm solves the approximation problem too, but\\nby finite sets instead of lines and planes. This chapter gives a brief\\npractical introduction into the methods of construction of general principal\\nobjects, i.e. objects embedded in the 'middle' of the multidimensional data\\nset. As a basis, the unifying framework of mean squared distance approximation\\nof finite datasets is selected. Principal graphs and manifolds are constructed\\nas generalisations of principal components and k-means principal points. For\\nthis purpose, the family of expectation/maximisation algorithms with nearest\\ngeneralisations is presented. Construction of principal graphs with controlled\\ncomplexity is based on the graph grammar approach.\\n\", \"  In this paper, we study the application of sparse principal component\\nanalysis (PCA) to clustering and feature selection problems. Sparse PCA seeks\\nsparse factors, or linear combinations of the data variables, explaining a\\nmaximum amount of variance in the data while having only a limited number of\\nnonzero coefficients. PCA is often used as a simple clustering technique and\\nsparse factors allow us here to interpret the clusters in terms of a reduced\\nset of variables. We begin with a brief introduction and motivation on sparse\\nPCA and detail our implementation of the algorithm in d'Aspremont et al.\\n(2005). We then apply these results to some classic clustering and feature\\nselection problems arising in biology.\\n\", '  We present three generalisations of Kernel Principal Components Analysis\\n(KPCA) which incorporate knowledge of the class labels of a subset of the data\\npoints. The first, MV-KPCA, penalises within class variances similar to Fisher\\ndiscriminant analysis. The second, LSKPCA is a hybrid of least squares\\nregression and kernel PCA. The final LR-KPCA is an iteratively reweighted\\nversion of the previous which achieves a sigmoid loss function on the labeled\\npoints. We provide a theoretical risk bound as well as illustrative experiments\\non real and toy data sets.\\n']\n"
     ]
    }
   ],
   "source": [
    "retrieve = dspy.Retrieve(k=3)\n",
    "question = \"Principal Component Analysis\"\n",
    "topK_passages = retrieve(question).passages\n",
    "\n",
    "print(f\"Top {retrieve.k} passages for question: {question} \\n\", \"\\n\")\n",
    "print(topK_passages)"
   ]
  },
  {
   "cell_type": "markdown",
   "id": "8914e357-5610-424e-8667-d0e4077c2d56",
   "metadata": {},
   "source": [
    "Seems like we are getting some good relevant answers. Now let's jump right in to make our simple RAG pipeline using DSPy."
   ]
  },
  {
   "cell_type": "markdown",
   "id": "a20a6d1a-f499-41b4-b66e-5bd0f69f567a",
   "metadata": {},
   "source": [
    "### Defining DSPy Signature and the RAG Module\n",
    "\n",
    "The very first building block of our RAG pipeline is to build a DSPy Signature. In short the signature explains the input and output fields without making you write big and messy prompts. You can also think of this as a prompt blueprint. Once you have created this blueprint, DSPy internally tries to optimize the prompt during the time of optimization (we will come to that later). \n",
    "\n",
    "In our case, we should have the following parameters:\n",
    "\n",
    "\n",
    "1. `context`: This will be an `InputField` which will contain all the retrieved passages.\n",
    "2. `question`: This will be another `InputField` which will contain user query\n",
    "3. `answer`: This will be the `OutputField` which contains the answer generated by the LLM. "
   ]
  },
  {
   "cell_type": "code",
   "execution_count": 24,
   "id": "e77d8040-3d46-4bc9-8349-4e04a2487c67",
   "metadata": {},
   "outputs": [],
   "source": [
    "class GenerateAnswer(dspy.Signature):\n",
    "    \"\"\"Think and Answer questions based on the context provided.\"\"\"\n",
    "\n",
    "    context = dspy.InputField(desc=\"May contain relevant facts about user query\")\n",
    "    question = dspy.InputField(desc=\"User query\")\n",
    "    answer = dspy.OutputField(desc=\"Answer in one or two lines\")\n",
    "    answer = dspy.OutputField(desc=\"Answer in one or two lines\")"
   ]
  },
  {
   "cell_type": "markdown",
   "id": "b1b32359-6d92-4360-b0fd-53aab308b9eb",
   "metadata": {},
   "source": [
    "After this we are going to define the overall RAG pipeline inside a single class which are also called [Modules in DSPy](https://dspy-docs.vercel.app/docs/building-blocks/modules). Generally Modules in DSPy represents:\n",
    "\n",
    "1. Ways of running some prompting technique like [Chain of Thought](https://arxiv.org/abs/2201.11903) or [ReAct](https://arxiv.org/abs/2210.03629). We are going to use ReAct for our case.\n",
    "2. Building a workflow, which has multiple steps.\n",
    "3. You can even attach / chain multiple modules togather to form a single module. This gives us the power of better modularity as well help us to do cleaner implementations when defining LLM orchestration pipelines.\n",
    "\n",
    "\n",
    "Now, let's implement our RAG module. "
   ]
  },
  {
   "cell_type": "code",
   "execution_count": 25,
   "id": "7cf701a4-faa2-4eec-aa24-9a64778f1098",
   "metadata": {},
   "outputs": [],
   "source": [
    "class RAG(dspy.Module):\n",
    "    def __init__(self):\n",
    "        self.retrieve = dspy.Retrieve()\n",
    "        self.generate_answer = dspy.ReAct(GenerateAnswer)\n",
    "\n",
    "    def forward(self, question):\n",
    "        context = self.retrieve(question).passages\n",
    "        prediction = self.generate_answer(context=context, question=question)\n",
    "        return dspy.Prediction(context=context, answer=prediction.answer)"
   ]
  },
  {
   "cell_type": "markdown",
   "id": "712ef4cc-b31e-43cd-a587-441f967b5164",
   "metadata": {},
   "source": [
    "As you can see in the above code, we first define our retriever and then bind our signature with `ChainOfThought` Module which will take this blueprint to generate better prompt but containing the same input and output fields mentioned while we defined our base signature. \n",
    "\n",
    "In the forward step (i.e. when we will call the RAG module object), we will first retrieve all the contexts from the retriever and then use this context to generate the answer from our signature. After this we will return the predictions in a good format which contains the context and the answer, so that we can see what all abstracts got retrieved. "
   ]
  },
  {
   "cell_type": "markdown",
   "id": "6712143b-3178-46c5-8df6-fd09cae13d5f",
   "metadata": {},
   "source": [
    "### Testing our DSPy pipeline with an example prompt\n",
    "\n",
    "We are almost there, now as of our final step, let's test our pipeline with a sample example. "
   ]
  },
  {
   "cell_type": "code",
   "execution_count": 26,
   "id": "84d74762-b11d-43fd-9b30-ecc5e0882133",
   "metadata": {},
   "outputs": [],
   "source": [
    "query = \"What are some latest research done on manifolds and graphs\""
   ]
  },
  {
   "cell_type": "code",
   "execution_count": 27,
   "id": "de288ad6-23b9-4da9-a39c-2dc2bd493645",
   "metadata": {},
   "outputs": [],
   "source": [
    "rag_pipeline = RAG()"
   ]
  },
  {
   "cell_type": "code",
   "execution_count": 28,
   "id": "9c477aa7-1ca2-49ae-b1e2-dba58ccea7e6",
   "metadata": {},
   "outputs": [
    {
     "name": "stdout",
     "output_type": "stream",
     "text": [
      "(1, 1024)\n",
      "(1, 1024)\n"
     ]
    }
   ],
   "source": [
    "prediction = rag_pipeline(query)"
   ]
  },
  {
   "cell_type": "code",
   "execution_count": 29,
   "id": "02aca279-236f-410e-95bb-4af82643c5f8",
   "metadata": {},
   "outputs": [
    {
     "data": {
      "text/plain": [
       "['  In manifold learning, algorithms based on graph Laplacians constructed from\\ndata have received considerable attention both in practical applications and\\ntheoretical analysis. In particular, the convergence of graph Laplacians\\nobtained from sampled data to certain continuous operators has become an active\\nresearch topic recently. Most of the existing work has been done under the\\nassumption that the data is sampled from a manifold without boundary or that\\nthe functions of interests are evaluated at a point away from the boundary.\\nHowever, the question of boundary behavior is of considerable practical and\\ntheoretical interest. In this paper we provide an analysis of the behavior of\\ngraph Laplacians at a point near or on the boundary, discuss their convergence\\nrates and their implications and provide some numerical results. It turns out\\nthat while points near the boundary occupy only a small part of the total\\nvolume of a manifold, the behavior of graph Laplacian there has different\\nscaling properties from its behavior elsewhere on the manifold, with global\\neffects on the whole manifold, an observation with potentially important\\nimplications for the general problem of learning on manifolds.\\n',\n",
       " '  We find the minimax rate of convergence in Hausdorff distance for estimating\\na manifold M of dimension d embedded in R^D given a noisy sample from the\\nmanifold. We assume that the manifold satisfies a smoothness condition and that\\nthe noise distribution has compact support. We show that the optimal rate of\\nconvergence is n^{-2/(2+d)}. Thus, the minimax rate depends only on the\\ndimension of the manifold, not on the dimension of the space in which M is\\nembedded.\\n',\n",
       " \"  In many physical, statistical, biological and other investigations it is\\ndesirable to approximate a system of points by objects of lower dimension\\nand/or complexity. For this purpose, Karl Pearson invented principal component\\nanalysis in 1901 and found 'lines and planes of closest fit to system of\\npoints'. The famous k-means algorithm solves the approximation problem too, but\\nby finite sets instead of lines and planes. This chapter gives a brief\\npractical introduction into the methods of construction of general principal\\nobjects, i.e. objects embedded in the 'middle' of the multidimensional data\\nset. As a basis, the unifying framework of mean squared distance approximation\\nof finite datasets is selected. Principal graphs and manifolds are constructed\\nas generalisations of principal components and k-means principal points. For\\nthis purpose, the family of expectation/maximisation algorithms with nearest\\ngeneralisations is presented. Construction of principal graphs with controlled\\ncomplexity is based on the graph grammar approach.\\n\"]"
      ]
     },
     "execution_count": 29,
     "metadata": {},
     "output_type": "execute_result"
    }
   ],
   "source": [
    "prediction.context"
   ]
  },
  {
   "cell_type": "code",
   "execution_count": 30,
   "id": "2cdb9af3-506c-424f-a4a4-09f4b3da08f8",
   "metadata": {},
   "outputs": [
    {
     "data": {
      "text/plain": [
       "'The recent research on manifolds and graphs includes the following:'"
      ]
     },
     "execution_count": 30,
     "metadata": {},
     "output_type": "execute_result"
    }
   ],
   "source": [
    "prediction.answer"
   ]
  },
  {
   "cell_type": "markdown",
   "id": "168b718b-88e4-40d3-b428-92b5680b3cef",
   "metadata": {},
   "source": [
    "You can even return more metadata like paper title, paper link (which would be not passed as context) but for references to the user so that they can get some relevant results.\n",
    "\n",
    "Congratulations, now you know how to make a basic RAG pipeline using PremAI, DSPy and Qdrant. "
   ]
  }
 ],
 "metadata": {
  "kernelspec": {
   "display_name": "Python 3 (ipykernel)",
   "language": "python",
   "name": "python3"
  },
  "language_info": {
   "codemirror_mode": {
    "name": "ipython",
    "version": 3
   },
   "file_extension": ".py",
   "mimetype": "text/x-python",
   "name": "python",
   "nbconvert_exporter": "python",
   "pygments_lexer": "ipython3",
   "version": "3.12.3"
  }
 },
 "nbformat": 4,
 "nbformat_minor": 5
}
